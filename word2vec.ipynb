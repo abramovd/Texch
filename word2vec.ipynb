{
 "cells": [
  {
   "cell_type": "code",
   "execution_count": 28,
   "metadata": {
    "collapsed": true,
    "deletable": true,
    "editable": true
   },
   "outputs": [],
   "source": [
    "from gensim.models import word2vec"
   ]
  },
  {
   "cell_type": "code",
   "execution_count": 29,
   "metadata": {
    "collapsed": false,
    "deletable": true,
    "editable": true
   },
   "outputs": [
    {
     "ename": "AttributeError",
     "evalue": "'module' object has no attribute 'Text8Corpus'",
     "output_type": "error",
     "traceback": [
      "\u001b[0;31m---------------------------------------------------------------------------\u001b[0m",
      "\u001b[0;31mAttributeError\u001b[0m                            Traceback (most recent call last)",
      "\u001b[0;32m<ipython-input-29-1e1295f309fd>\u001b[0m in \u001b[0;36m<module>\u001b[0;34m()\u001b[0m\n\u001b[1;32m      1\u001b[0m \u001b[0;32mimport\u001b[0m \u001b[0mlogging\u001b[0m\u001b[0;34m\u001b[0m\u001b[0m\n\u001b[1;32m      2\u001b[0m \u001b[0mlogging\u001b[0m\u001b[0;34m.\u001b[0m\u001b[0mbasicConfig\u001b[0m\u001b[0;34m(\u001b[0m\u001b[0mformat\u001b[0m\u001b[0;34m=\u001b[0m\u001b[0;34m'%(asctime)s : %(levelname)s : %(message)s'\u001b[0m\u001b[0;34m,\u001b[0m \u001b[0mlevel\u001b[0m\u001b[0;34m=\u001b[0m\u001b[0mlogging\u001b[0m\u001b[0;34m.\u001b[0m\u001b[0mINFO\u001b[0m\u001b[0;34m)\u001b[0m\u001b[0;34m\u001b[0m\u001b[0m\n\u001b[0;32m----> 3\u001b[0;31m \u001b[0msentences\u001b[0m \u001b[0;34m=\u001b[0m \u001b[0mdoc2vec\u001b[0m\u001b[0;34m.\u001b[0m\u001b[0mText8Corpus\u001b[0m\u001b[0;34m(\u001b[0m\u001b[0;34m'text8'\u001b[0m\u001b[0;34m)\u001b[0m\u001b[0;34m\u001b[0m\u001b[0m\n\u001b[0m\u001b[1;32m      4\u001b[0m \u001b[0mword_model\u001b[0m \u001b[0;34m=\u001b[0m \u001b[0mword2vec\u001b[0m\u001b[0;34m.\u001b[0m\u001b[0mWord2Vec\u001b[0m\u001b[0;34m(\u001b[0m\u001b[0msentences\u001b[0m\u001b[0;34m,\u001b[0m \u001b[0msize\u001b[0m\u001b[0;34m=\u001b[0m\u001b[0;36m600\u001b[0m\u001b[0;34m)\u001b[0m\u001b[0;34m\u001b[0m\u001b[0m\n",
      "\u001b[0;31mAttributeError\u001b[0m: 'module' object has no attribute 'Text8Corpus'"
     ]
    }
   ],
   "source": [
    "import logging\n",
    "logging.basicConfig(format='%(asctime)s : %(levelname)s : %(message)s', level=logging.INFO)\n",
    "sentences = doc2vec.Text8Corpus('text8')\n",
    "word_model = word2vec.Word2Vec(sentences, size=600)"
   ]
  },
  {
   "cell_type": "code",
   "execution_count": 6,
   "metadata": {
    "collapsed": false,
    "deletable": true,
    "editable": true
   },
   "outputs": [
    {
     "name": "stderr",
     "output_type": "stream",
     "text": [
      "2017-05-29 03:10:09,787 : INFO : saving Word2Vec object under word2vec, separately None\n",
      "2017-05-29 03:10:09,789 : INFO : not storing attribute syn0norm\n",
      "2017-05-29 03:10:09,790 : INFO : storing np array 'syn0' to word2vec.wv.syn0.npy\n",
      "2017-05-29 03:10:09,928 : INFO : storing np array 'syn1neg' to word2vec.syn1neg.npy\n",
      "2017-05-29 03:10:10,021 : INFO : not storing attribute cum_table\n",
      "2017-05-29 03:10:10,884 : INFO : saved word2vec\n"
     ]
    }
   ],
   "source": [
    "# model.save('word2vec')"
   ]
  },
  {
   "cell_type": "code",
   "execution_count": 27,
   "metadata": {
    "collapsed": false,
    "deletable": true,
    "editable": true
   },
   "outputs": [
    {
     "name": "stderr",
     "output_type": "stream",
     "text": [
      "2017-05-29 03:25:15,769 : INFO : loading Word2Vec object from word2vec\n",
      "2017-05-29 03:25:16,140 : INFO : loading wv recursively from word2vec.wv.* with mmap=None\n",
      "2017-05-29 03:25:16,141 : INFO : loading syn0 from word2vec.wv.syn0.npy with mmap=None\n",
      "2017-05-29 03:25:16,227 : INFO : setting ignored attribute syn0norm to None\n",
      "2017-05-29 03:25:16,228 : INFO : loading syn1neg from word2vec.syn1neg.npy with mmap=None\n",
      "2017-05-29 03:25:16,368 : INFO : setting ignored attribute cum_table to None\n",
      "2017-05-29 03:25:16,370 : INFO : loaded word2vec\n"
     ]
    }
   ],
   "source": [
    "# word_model = word2vec.Word2Vec.load('word2vec')"
   ]
  },
  {
   "cell_type": "code",
   "execution_count": 19,
   "metadata": {
    "collapsed": false,
    "deletable": true,
    "editable": true
   },
   "outputs": [],
   "source": [
    "def get_word_vector(sentence_tokens):\n",
    "    vectors_available = [word for word in sentence_tokens if word in word_model.wv.vocab]\n",
    "    result = np.zeros((word_model.vector_size))\n",
    "    if len(vectors_available) > 0:\n",
    "        result = np.mean([word_model[word] for word in vectors_available], axis=0)\n",
    "    return result"
   ]
  },
  {
   "cell_type": "code",
   "execution_count": 4,
   "metadata": {
    "collapsed": true,
    "deletable": true,
    "editable": true
   },
   "outputs": [],
   "source": [
    "from nltk.tokenize import sent_tokenize, word_tokenize"
   ]
  },
  {
   "cell_type": "code",
   "execution_count": 5,
   "metadata": {
    "collapsed": true,
    "deletable": true,
    "editable": true
   },
   "outputs": [],
   "source": [
    "import numpy as np\n",
    "%matplotlib inline\n",
    "from random import Random\n",
    "from texch.experiments import ClusteringExperiment, MultiClusteringExperiment\n",
    "from texch.clustering.nltk import KMeansClusterer\n",
    "from texch.preprocessing import PreprocessStep, Preprocessor\n",
    "from texch.preprocessing.sklearn import TfidfVectorizer\n",
    "from texch.clustering.nltk import KMeansClusterer"
   ]
  },
  {
   "cell_type": "code",
   "execution_count": 6,
   "metadata": {
    "collapsed": true,
    "deletable": true,
    "editable": true
   },
   "outputs": [],
   "source": [
    "from sklearn.datasets import fetch_20newsgroups\n",
    "\n",
    "dataset = fetch_20newsgroups(\n",
    "    categories=[\n",
    "        'alt.atheism', 'talk.religion.misc',\n",
    "        'comp.graphics', 'sci.space'\n",
    "    ],\n",
    "    subset='test',\n",
    "    random_state=42\n",
    ")\n",
    "labels = dataset.target\n",
    "true_k = np.unique(labels).shape[0]"
   ]
  },
  {
   "cell_type": "code",
   "execution_count": 7,
   "metadata": {
    "collapsed": true,
    "deletable": true,
    "editable": true
   },
   "outputs": [],
   "source": [
    "from nltk.tokenize import word_tokenize\n",
    "from nltk.corpus import stopwords\n",
    "from nltk.tokenize import RegexpTokenizer\n",
    "\n",
    "stopset = set(stopwords.words('english'))\n",
    "\n",
    "data = []\n",
    "for text in dataset.data:\n",
    "    sent_tokens = []\n",
    "    for sentence in sent_tokenize(text):\n",
    "        sent = sentence.lower()\n",
    "        tokenizer = RegexpTokenizer(r'\\w+')\n",
    "        tokens = tokenizer.tokenize(sent)\n",
    "        sent_tokens += [w for w in tokens if not w in stopset]\n",
    "    data.append(sent_tokens)"
   ]
  },
  {
   "cell_type": "code",
   "execution_count": 20,
   "metadata": {
    "collapsed": false,
    "deletable": true,
    "editable": true
   },
   "outputs": [],
   "source": [
    "w2v_data = list(map(get_word_vector, data))"
   ]
  },
  {
   "cell_type": "code",
   "execution_count": 21,
   "metadata": {
    "collapsed": false,
    "deletable": true,
    "editable": true
   },
   "outputs": [
    {
     "data": {
      "text/plain": [
       "600"
      ]
     },
     "execution_count": 21,
     "metadata": {},
     "output_type": "execute_result"
    }
   ],
   "source": [
    "len(w2v_data[0])"
   ]
  },
  {
   "cell_type": "code",
   "execution_count": 10,
   "metadata": {
    "collapsed": false,
    "deletable": true,
    "editable": true
   },
   "outputs": [],
   "source": [
    "from scipy.spatial.distance import euclidean"
   ]
  },
  {
   "cell_type": "code",
   "execution_count": 66,
   "metadata": {
    "collapsed": true,
    "deletable": true,
    "editable": true
   },
   "outputs": [],
   "source": [
    "from texch.clustering.sklearn import KMeans"
   ]
  },
  {
   "cell_type": "code",
   "execution_count": 22,
   "metadata": {
    "collapsed": false,
    "deletable": true,
    "editable": true
   },
   "outputs": [],
   "source": [
    "c = ClusteringExperiment(\n",
    "    method=KMeansClusterer(\n",
    "        true_k,\n",
    "        distance=euclidean,\n",
    "        rng=Random(15),\n",
    "    ),\n",
    "    preprocessor=Preprocessor([PreprocessStep(lambda x: x)])\n",
    ")"
   ]
  },
  {
   "cell_type": "code",
   "execution_count": 23,
   "metadata": {
    "collapsed": false,
    "deletable": true,
    "editable": true
   },
   "outputs": [],
   "source": [
    "c.set_input_data(w2v_data)"
   ]
  },
  {
   "cell_type": "code",
   "execution_count": 24,
   "metadata": {
    "collapsed": false,
    "deletable": true,
    "editable": true
   },
   "outputs": [
    {
     "name": "stderr",
     "output_type": "stream",
     "text": [
      "2017-05-29 04:18:41,592 : INFO : Running experiment \"\n",
      "Preprocessor: PreprocessStep (id=1)\n",
      "Method: NLTKClusterer:  (id=1)\"...\n",
      "2017-05-29 04:18:41,596 : INFO : Running preprocessing...\n",
      "2017-05-29 04:18:41,599 : INFO : Step #0: PreprocessStep (id=1): finished in 7.15255737305e-06 sec\n",
      "2017-05-29 04:18:41,600 : INFO : Finished preprocessing in 7.15255737305e-06\n",
      "2017-05-29 04:18:41,602 : INFO : Running method...\n",
      "2017-05-29 04:18:43,129 : INFO : Finished method in 1.52586698532 sec\n",
      "2017-05-29 04:18:43,131 : INFO : Finished experiment in 1.52587413788 sec\n"
     ]
    },
    {
     "data": {
      "text/html": [
       "\n",
       "            <center>\n",
       "            <h1> Experiment Summary </h1><br>\n",
       "            </center>\n",
       "            Experiment name: <br><b>\n",
       "Preprocessor: PreprocessStep (id=1)\n",
       "Method: NLTKClusterer: </b><br>\n",
       "            <ul>\n",
       "            <li>\n",
       "            <b>Preprocessor</b>: <br> <ul><li>PreprocessStep (id=1)</li></ul>\n",
       "            </li>\n",
       "            <li>\n",
       "            <b>Method</b>: <br>NLTKClusterer: \n",
       "            </li>\n",
       "            </ul>\n",
       "        <br><br>            Total objects to cluster: 1353<br><br>            Total clusters found: 4<br>        Cluster #0: 350 objects<br>Cluster #1: 336 objects<br>Cluster #2: 349 objects<br>Cluster #3: 318 objects<br><br><br>Computed scores:<br><br><div>\n",
       "<table border=\"1\" class=\"dataframe\">\n",
       "  <thead>\n",
       "    <tr style=\"text-align: right;\">\n",
       "      <th></th>\n",
       "      <th>ExperimentID</th>\n",
       "      <th>ExperimentName</th>\n",
       "      <th>MethodSpent</th>\n",
       "      <th>PrepareFuncSpent</th>\n",
       "      <th>PreprocessorSpent</th>\n",
       "      <th>TotalSpent</th>\n",
       "    </tr>\n",
       "  </thead>\n",
       "  <tbody>\n",
       "    <tr>\n",
       "      <th>0</th>\n",
       "      <td>1</td>\n",
       "      <td>\\nPreprocessor: PreprocessStep (id=1)\\nMethod:...</td>\n",
       "      <td>1.525867</td>\n",
       "      <td>0</td>\n",
       "      <td>0.000007</td>\n",
       "      <td>1.525874</td>\n",
       "    </tr>\n",
       "  </tbody>\n",
       "</table>\n",
       "</div>"
      ],
      "text/plain": [
       "\n",
       "\n",
       "\n",
       "            Total objects to cluster: 1353\n",
       "\n",
       "            Total clusters found: 4\n",
       "        Cluster #0: 350 objects\n",
       "Cluster #1: 336 objects\n",
       "Cluster #2: 349 objects\n",
       "Cluster #3: 318 objects\n",
       "\n",
       "\n",
       "Scores:\n",
       "\n",
       "   ExperimentID                                     ExperimentName  \\\n",
       "0             1  \\nPreprocessor: PreprocessStep (id=1)\\nMethod:...   \n",
       "\n",
       "   MethodSpent  PrepareFuncSpent  PreprocessorSpent  TotalSpent  \n",
       "0     1.525867                 0           0.000007    1.525874  "
      ]
     },
     "execution_count": 24,
     "metadata": {},
     "output_type": "execute_result"
    }
   ],
   "source": [
    "c.run()"
   ]
  },
  {
   "cell_type": "code",
   "execution_count": 25,
   "metadata": {
    "collapsed": false,
    "deletable": true,
    "editable": true
   },
   "outputs": [
    {
     "data": {
      "text/html": [
       "<div>\n",
       "<table border=\"1\" class=\"dataframe\">\n",
       "  <thead>\n",
       "    <tr style=\"text-align: right;\">\n",
       "      <th></th>\n",
       "      <th>ExperimentID</th>\n",
       "      <th>ExperimentName</th>\n",
       "      <th>MethodSpent</th>\n",
       "      <th>PrepareFuncSpent</th>\n",
       "      <th>PreprocessorSpent</th>\n",
       "      <th>TotalSpent</th>\n",
       "      <th>entropy</th>\n",
       "      <th>homogeneity</th>\n",
       "      <th>v_measure</th>\n",
       "      <th>adj_rand_index</th>\n",
       "      <th>completeness</th>\n",
       "      <th>mutual_info_score</th>\n",
       "      <th>normalized_mutual_info_score</th>\n",
       "      <th>adjusted_mutual_info_score</th>\n",
       "      <th>fowlkes_mallows_score</th>\n",
       "    </tr>\n",
       "  </thead>\n",
       "  <tbody>\n",
       "    <tr>\n",
       "      <th>0</th>\n",
       "      <td>1</td>\n",
       "      <td>\\nPreprocessor: PreprocessStep (id=1)\\nMethod:...</td>\n",
       "      <td>1.525867</td>\n",
       "      <td>0</td>\n",
       "      <td>0.000007</td>\n",
       "      <td>1.525874</td>\n",
       "      <td>1.385558</td>\n",
       "      <td>0.32269</td>\n",
       "      <td>0.320966</td>\n",
       "      <td>0.300971</td>\n",
       "      <td>0.319261</td>\n",
       "      <td>0.442354</td>\n",
       "      <td>0.320971</td>\n",
       "      <td>0.317618</td>\n",
       "      <td>0.478092</td>\n",
       "    </tr>\n",
       "  </tbody>\n",
       "</table>\n",
       "</div>"
      ],
      "text/plain": [
       "   ExperimentID                                     ExperimentName  \\\n",
       "0             1  \\nPreprocessor: PreprocessStep (id=1)\\nMethod:...   \n",
       "\n",
       "   MethodSpent  PrepareFuncSpent  PreprocessorSpent  TotalSpent   entropy  \\\n",
       "0     1.525867                 0           0.000007    1.525874  1.385558   \n",
       "\n",
       "   homogeneity  v_measure  adj_rand_index  completeness  mutual_info_score  \\\n",
       "0      0.32269   0.320966        0.300971      0.319261           0.442354   \n",
       "\n",
       "   normalized_mutual_info_score  adjusted_mutual_info_score  \\\n",
       "0                      0.320971                    0.317618   \n",
       "\n",
       "   fowlkes_mallows_score  \n",
       "0               0.478092  "
      ]
     },
     "execution_count": 25,
     "metadata": {},
     "output_type": "execute_result"
    }
   ],
   "source": [
    "c.set_true_labels(labels)\n",
    "c.compute_scores()"
   ]
  },
  {
   "cell_type": "code",
   "execution_count": 26,
   "metadata": {
    "collapsed": true,
    "deletable": true,
    "editable": true
   },
   "outputs": [],
   "source": [
    "SCORES = [\n",
    "    'homogeneity', 'completeness', 'v_measure',\n",
    "    'adj_rand_index', 'adjusted_mutual_info_score',\n",
    "    'fowlkes_mallows_score',\n",
    "    'silhouette_coefficient', 'calinski_harabaz_score'\n",
    "]"
   ]
  },
  {
   "cell_type": "code",
   "execution_count": 27,
   "metadata": {
    "collapsed": false,
    "deletable": true,
    "editable": true
   },
   "outputs": [
    {
     "data": {
      "text/html": [
       "<div>\n",
       "<table border=\"1\" class=\"dataframe\">\n",
       "  <thead>\n",
       "    <tr style=\"text-align: right;\">\n",
       "      <th></th>\n",
       "      <th>ExperimentName</th>\n",
       "      <th>homogeneity</th>\n",
       "      <th>completeness</th>\n",
       "      <th>v_measure</th>\n",
       "      <th>adj_rand_index</th>\n",
       "      <th>adjusted_mutual_info_score</th>\n",
       "      <th>fowlkes_mallows_score</th>\n",
       "      <th>silhouette_coefficient</th>\n",
       "      <th>calinski_harabaz_score</th>\n",
       "    </tr>\n",
       "  </thead>\n",
       "  <tbody>\n",
       "    <tr>\n",
       "      <th>0</th>\n",
       "      <td>\\nPreprocessor: PreprocessStep (id=1)\\nMethod:...</td>\n",
       "      <td>0.32269</td>\n",
       "      <td>0.319261</td>\n",
       "      <td>0.320966</td>\n",
       "      <td>0.300971</td>\n",
       "      <td>0.317618</td>\n",
       "      <td>0.478092</td>\n",
       "      <td>0.122395</td>\n",
       "      <td>179.93838</td>\n",
       "    </tr>\n",
       "  </tbody>\n",
       "</table>\n",
       "</div>"
      ],
      "text/plain": [
       "                                      ExperimentName  homogeneity  \\\n",
       "0  \\nPreprocessor: PreprocessStep (id=1)\\nMethod:...      0.32269   \n",
       "\n",
       "   completeness  v_measure  adj_rand_index  adjusted_mutual_info_score  \\\n",
       "0      0.319261   0.320966        0.300971                    0.317618   \n",
       "\n",
       "   fowlkes_mallows_score  silhouette_coefficient  calinski_harabaz_score  \n",
       "0               0.478092                0.122395               179.93838  "
      ]
     },
     "execution_count": 27,
     "metadata": {},
     "output_type": "execute_result"
    }
   ],
   "source": [
    "c.compute_scores(['silhouette_coefficient', 'calinski_harabaz_score'])\n",
    "c.result[['ExperimentName'] + SCORES]"
   ]
  },
  {
   "cell_type": "code",
   "execution_count": 43,
   "metadata": {
    "collapsed": true,
    "deletable": true,
    "editable": true
   },
   "outputs": [],
   "source": [
    "from sklearn.cluster import KMeans\n",
    "k = KMeans(n_clusters=true_k)"
   ]
  },
  {
   "cell_type": "code",
   "execution_count": 44,
   "metadata": {
    "collapsed": false,
    "deletable": true,
    "editable": true
   },
   "outputs": [
    {
     "data": {
      "text/plain": [
       "KMeans(algorithm='auto', copy_x=True, init='k-means++', max_iter=300,\n",
       "    n_clusters=4, n_init=10, n_jobs=1, precompute_distances='auto',\n",
       "    random_state=None, tol=0.0001, verbose=0)"
      ]
     },
     "execution_count": 44,
     "metadata": {},
     "output_type": "execute_result"
    }
   ],
   "source": [
    "k.fit(w2v_data)"
   ]
  },
  {
   "cell_type": "code",
   "execution_count": null,
   "metadata": {
    "collapsed": true,
    "deletable": true,
    "editable": true
   },
   "outputs": [],
   "source": [
    "w2v_data"
   ]
  },
  {
   "cell_type": "code",
   "execution_count": 47,
   "metadata": {
    "collapsed": false,
    "deletable": true,
    "editable": true
   },
   "outputs": [
    {
     "ename": "ValueError",
     "evalue": "labels_true and labels_pred must have same size, got 1353 and 276586",
     "output_type": "error",
     "traceback": [
      "\u001b[0;31m---------------------------------------------------------------------------\u001b[0m",
      "\u001b[0;31mValueError\u001b[0m                                Traceback (most recent call last)",
      "\u001b[0;32m<ipython-input-47-5f3276a52462>\u001b[0m in \u001b[0;36m<module>\u001b[0;34m()\u001b[0m\n\u001b[1;32m      1\u001b[0m \u001b[0;32mfrom\u001b[0m \u001b[0msklearn\u001b[0m\u001b[0;34m.\u001b[0m\u001b[0mmetrics\u001b[0m\u001b[0;34m.\u001b[0m\u001b[0mcluster\u001b[0m \u001b[0;32mimport\u001b[0m \u001b[0mhomogeneity_completeness_v_measure\u001b[0m\u001b[0;34m\u001b[0m\u001b[0m\n\u001b[0;32m----> 2\u001b[0;31m \u001b[0mhomogeneity_completeness_v_measure\u001b[0m\u001b[0;34m(\u001b[0m\u001b[0mlabels\u001b[0m\u001b[0;34m,\u001b[0m \u001b[0mk\u001b[0m\u001b[0;34m.\u001b[0m\u001b[0mlabels_\u001b[0m\u001b[0;34m)\u001b[0m\u001b[0;34m\u001b[0m\u001b[0m\n\u001b[0m",
      "\u001b[0;32m/Users/d.abramov/Documents/liza/ml/lib/python2.7/site-packages/sklearn/metrics/cluster/supervised.pyc\u001b[0m in \u001b[0;36mhomogeneity_completeness_v_measure\u001b[0;34m(labels_true, labels_pred)\u001b[0m\n\u001b[1;32m    267\u001b[0m     \u001b[0mv_measure_score\u001b[0m\u001b[0;34m\u001b[0m\u001b[0m\n\u001b[1;32m    268\u001b[0m     \"\"\"\n\u001b[0;32m--> 269\u001b[0;31m     \u001b[0mlabels_true\u001b[0m\u001b[0;34m,\u001b[0m \u001b[0mlabels_pred\u001b[0m \u001b[0;34m=\u001b[0m \u001b[0mcheck_clusterings\u001b[0m\u001b[0;34m(\u001b[0m\u001b[0mlabels_true\u001b[0m\u001b[0;34m,\u001b[0m \u001b[0mlabels_pred\u001b[0m\u001b[0;34m)\u001b[0m\u001b[0;34m\u001b[0m\u001b[0m\n\u001b[0m\u001b[1;32m    270\u001b[0m \u001b[0;34m\u001b[0m\u001b[0m\n\u001b[1;32m    271\u001b[0m     \u001b[0;32mif\u001b[0m \u001b[0mlen\u001b[0m\u001b[0;34m(\u001b[0m\u001b[0mlabels_true\u001b[0m\u001b[0;34m)\u001b[0m \u001b[0;34m==\u001b[0m \u001b[0;36m0\u001b[0m\u001b[0;34m:\u001b[0m\u001b[0;34m\u001b[0m\u001b[0m\n",
      "\u001b[0;32m/Users/d.abramov/Documents/liza/ml/lib/python2.7/site-packages/sklearn/metrics/cluster/supervised.pyc\u001b[0m in \u001b[0;36mcheck_clusterings\u001b[0;34m(labels_true, labels_pred)\u001b[0m\n\u001b[1;32m     48\u001b[0m         raise ValueError(\n\u001b[1;32m     49\u001b[0m             \u001b[0;34m\"labels_true and labels_pred must have same size, got %d and %d\"\u001b[0m\u001b[0;34m\u001b[0m\u001b[0m\n\u001b[0;32m---> 50\u001b[0;31m             % (labels_true.shape[0], labels_pred.shape[0]))\n\u001b[0m\u001b[1;32m     51\u001b[0m     \u001b[0;32mreturn\u001b[0m \u001b[0mlabels_true\u001b[0m\u001b[0;34m,\u001b[0m \u001b[0mlabels_pred\u001b[0m\u001b[0;34m\u001b[0m\u001b[0m\n\u001b[1;32m     52\u001b[0m \u001b[0;34m\u001b[0m\u001b[0m\n",
      "\u001b[0;31mValueError\u001b[0m: labels_true and labels_pred must have same size, got 1353 and 276586"
     ]
    }
   ],
   "source": [
    "from sklearn.metrics.cluster import homogeneity_completeness_v_measure\n",
    "homogeneity_completeness_v_measure(labels, k.labels_)"
   ]
  },
  {
   "cell_type": "code",
   "execution_count": null,
   "metadata": {
    "collapsed": true,
    "deletable": true,
    "editable": true
   },
   "outputs": [],
   "source": []
  }
 ],
 "metadata": {
  "kernelspec": {
   "display_name": "ML",
   "language": "python",
   "name": "ml"
  },
  "language_info": {
   "codemirror_mode": {
    "name": "ipython",
    "version": 2
   },
   "file_extension": ".py",
   "mimetype": "text/x-python",
   "name": "python",
   "nbconvert_exporter": "python",
   "pygments_lexer": "ipython2",
   "version": "2.7.10"
  }
 },
 "nbformat": 4,
 "nbformat_minor": 2
}
